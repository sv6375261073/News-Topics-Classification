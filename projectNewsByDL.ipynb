{
 "cells": [
  {
   "cell_type": "code",
   "execution_count": 3,
   "metadata": {
    "scrolled": true
   },
   "outputs": [
    {
     "name": "stderr",
     "output_type": "stream",
     "text": [
      "C:\\ProgramData\\Anaconda3\\lib\\site-packages\\h5py\\__init__.py:36: FutureWarning: Conversion of the second argument of issubdtype from `float` to `np.floating` is deprecated. In future, it will be treated as `np.float64 == np.dtype(float).type`.\n",
      "  from ._conv import register_converters as _register_converters\n",
      "Using TensorFlow backend.\n",
      "C:\\ProgramData\\Anaconda3\\lib\\site-packages\\sklearn\\cross_validation.py:41: DeprecationWarning: This module was deprecated in version 0.18 in favor of the model_selection module into which all the refactored classes and functions are moved. Also note that the interface of the new CV iterators are different from that of this module. This module will be removed in 0.20.\n",
      "  \"This module will be removed in 0.20.\", DeprecationWarning)\n"
     ]
    }
   ],
   "source": [
    "from sklearn.datasets import fetch_20newsgroups\n",
    "from keras.models import Sequential\n",
    "from keras.layers import Convolution2DTranspose,MaxPool2D\n",
    "from keras.layers.core import Dense\n",
    "from keras.optimizers import Adam\n",
    "from sklearn.feature_extraction.text import CountVectorizer,TfidfTransformer\n",
    "from sklearn.cross_validation import train_test_split\n",
    "from keras.callbacks import History\n",
    "from keras  import backend as K\n",
    "import pandas as pd\n",
    "from sklearn.cross_validation import train_test_split\n",
    "import numpy as np\n",
    "from sklearn.datasets import fetch_20newsgroups"
   ]
  },
  {
   "cell_type": "code",
   "execution_count": 17,
   "metadata": {},
   "outputs": [],
   "source": [
    "df=fetch_20newsgroups()\n",
    "X=df.data\n",
    "Y=df.target\n",
    "cv=CountVectorizer()\n",
    "tf=TfidfTransformer()"
   ]
  },
  {
   "cell_type": "code",
   "execution_count": 18,
   "metadata": {},
   "outputs": [
    {
     "data": {
      "text/plain": [
       "(11314, 130107)"
      ]
     },
     "execution_count": 18,
     "metadata": {},
     "output_type": "execute_result"
    }
   ],
   "source": [
    "X=cv.fit_transform(X)\n",
    "X=tf.fit_transform(X)\n",
    "X.shape"
   ]
  },
  {
   "cell_type": "code",
   "execution_count": 6,
   "metadata": {},
   "outputs": [],
   "source": [
    "\n",
    "model=Sequential([\n",
    "    Dense(128,input_shape=(130107,),activation='relu'),\n",
    "    Dense(41,activation='softmax',kernel_initializer='glorot_uniform', bias_initializer='zeros')\n",
    "])"
   ]
  },
  {
   "cell_type": "code",
   "execution_count": 7,
   "metadata": {},
   "outputs": [],
   "source": [
    "model.compile(Adam(lr=0.01),loss='sparse_categorical_crossentropy', metrics=['accuracy'])"
   ]
  },
  {
   "cell_type": "code",
   "execution_count": 8,
   "metadata": {},
   "outputs": [
    {
     "name": "stdout",
     "output_type": "stream",
     "text": [
      "Epoch 1/5\n",
      "11314/11314 [==============================] - 34s 3ms/step - loss: 1.9076 - acc: 0.7422\n",
      "Epoch 2/5\n",
      "11314/11314 [==============================] - 33s 3ms/step - loss: 0.0940 - acc: 0.9867\n",
      "Epoch 3/5\n",
      "11314/11314 [==============================] - 33s 3ms/step - loss: 0.0101 - acc: 0.9978\n",
      "Epoch 4/5\n",
      "11314/11314 [==============================] - 34s 3ms/step - loss: 0.0064 - acc: 0.9986\n",
      "Epoch 5/5\n",
      "11314/11314 [==============================] - 33s 3ms/step - loss: 0.0044 - acc: 0.9990\n"
     ]
    },
    {
     "data": {
      "text/plain": [
       "<keras.callbacks.History at 0x1146d7e7b70>"
      ]
     },
     "execution_count": 8,
     "metadata": {},
     "output_type": "execute_result"
    }
   ],
   "source": [
    "model.fit(X,Y,batch_size=500,epochs=5,verbose=1,shuffle=True)"
   ]
  },
  {
   "cell_type": "code",
   "execution_count": 9,
   "metadata": {},
   "outputs": [],
   "source": [
    "pred=model.predict(X[45])"
   ]
  },
  {
   "cell_type": "code",
   "execution_count": 10,
   "metadata": {},
   "outputs": [
    {
     "data": {
      "text/plain": [
       "4"
      ]
     },
     "execution_count": 10,
     "metadata": {},
     "output_type": "execute_result"
    }
   ],
   "source": [
    "x=list(pred[0][0:])\n",
    "x.index(max(x))"
   ]
  },
  {
   "cell_type": "code",
   "execution_count": 12,
   "metadata": {},
   "outputs": [
    {
     "data": {
      "text/plain": [
       "4"
      ]
     },
     "execution_count": 12,
     "metadata": {},
     "output_type": "execute_result"
    }
   ],
   "source": [
    "df.target[45]"
   ]
  },
  {
   "cell_type": "code",
   "execution_count": 13,
   "metadata": {},
   "outputs": [],
   "source": [
    "text=df.data[0]\n",
    "text=cv.fit_transform([text])"
   ]
  },
  {
   "cell_type": "code",
   "execution_count": 19,
   "metadata": {},
   "outputs": [
    {
     "data": {
      "text/plain": [
       "<1x130107 sparse matrix of type '<class 'numpy.float64'>'\n",
       "\twith 7 stored elements in Compressed Sparse Row format>"
      ]
     },
     "execution_count": 19,
     "metadata": {},
     "output_type": "execute_result"
    }
   ],
   "source": [
    "text=\"Computer is the very best computing device\"\n",
    "text=cv.transform([text])\n",
    "text=tf.transform(text)\n",
    "text"
   ]
  },
  {
   "cell_type": "code",
   "execution_count": 20,
   "metadata": {},
   "outputs": [],
   "source": [
    "pred=model.predict(text)"
   ]
  },
  {
   "cell_type": "code",
   "execution_count": 21,
   "metadata": {},
   "outputs": [
    {
     "data": {
      "text/plain": [
       "'sci.electronics'"
      ]
     },
     "execution_count": 21,
     "metadata": {},
     "output_type": "execute_result"
    }
   ],
   "source": [
    "x=list(pred[0][0:])\n",
    "indexval=x.index(max(x))\n",
    "df.target_names[indexval]"
   ]
  },
  {
   "cell_type": "code",
   "execution_count": 22,
   "metadata": {},
   "outputs": [],
   "source": [
    "def call():\n",
    "    webbrowser.open_new(url)\n",
    "url=\"http://www.google.com\"\n",
    "text=''\n",
    "out=''\n",
    "def action():\n",
    "    global e\n",
    "\n",
    "    if(len(e.get())>25):\n",
    "        text = e.get()\n",
    "        text=cv.transform([text])\n",
    "        text=tf.fit_transform(text)\n",
    "        pred=model.predict(text)\n",
    "        x=list(pred[0][0:])\n",
    "        indexval=x.index(max(x))\n",
    "        out=df.target_names[indexval]\n",
    "        Label(win,text='processing..',bg='lightblue',fg='black',font='helvetica 15').place(relx=0.3,rely=0.2,relwidth=0.4,relheight=0.15)\n",
    "        Label(win,text='NewsTopic   :  '+out,fg='black').place(relx=0.25,rely=0.75,relwidth=0.5,relheight=0.1) \n",
    "        Label(win,text='Done.. ',bg='lightblue',fg='black',font='helvetica 15').place(relx=0.3,rely=0.2,relwidth=0.4,relheight=0.15)\n",
    "    else:\n",
    "        Label(win,text='Bad input...',bg='red',fg='black',font='helvetica 15').place(relx=0.3,rely=0.2,relwidth=0.4,relheight=0.15)     \n",
    "from tkinter import *\n",
    "import webbrowser\n",
    "win = Tk()\n",
    "win.resizable(False,False)\n",
    "win.title('NewsTopicsClassifier')\n",
    "canvass=Canvas(win,width=500,height=500).grid(row=0,column=0)\n",
    "e=Entry(win,width=50)\n",
    "e.grid(row=0,column=0)\n",
    "Label(win,text='Enter News Here..', bg='green',font='helvetica 15').place(relx=0,rely=0,relwidth=1,relheight=0.15)\n",
    "button=Button(win,text='Submit',command=action,bg='lightgreen').place(relx=0.3,rely=0.52,relwidth=0.4,relheight=0.07)\n",
    "button2=Button(win,text='Google',command=call,bg='lightgreen',fg='black').place(relx=0.4,rely=0.85,relwidth=0.2,relheight=0.05)\n",
    "foot=Label(win, bg='lightgreen',font='helvetica 15').place(relx=0,rely=0.9,relwidth=1,relheight=0.1)\n",
    "mainloop()"
   ]
  },
  {
   "cell_type": "code",
   "execution_count": null,
   "metadata": {},
   "outputs": [],
   "source": []
  }
 ],
 "metadata": {
  "kernelspec": {
   "display_name": "Python 3",
   "language": "python",
   "name": "python3"
  },
  "language_info": {
   "codemirror_mode": {
    "name": "ipython",
    "version": 3
   },
   "file_extension": ".py",
   "mimetype": "text/x-python",
   "name": "python",
   "nbconvert_exporter": "python",
   "pygments_lexer": "ipython3",
   "version": "3.6.5"
  }
 },
 "nbformat": 4,
 "nbformat_minor": 2
}
